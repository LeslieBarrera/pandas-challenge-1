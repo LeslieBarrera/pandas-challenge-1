{
 "cells": [
  {
   "cell_type": "markdown",
   "id": "dc0318d6",
   "metadata": {},
   "source": [
    "## Part 1: Explore the Data\n",
    "\n",
    "Import the data and use Pandas to learn more about the dataset."
   ]
  },
  {
   "cell_type": "code",
   "execution_count": 2,
   "id": "e076f57f",
   "metadata": {
    "scrolled": true
   },
   "outputs": [
    {
     "data": {
      "text/html": [
       "<div>\n",
       "<style scoped>\n",
       "    .dataframe tbody tr th:only-of-type {\n",
       "        vertical-align: middle;\n",
       "    }\n",
       "\n",
       "    .dataframe tbody tr th {\n",
       "        vertical-align: top;\n",
       "    }\n",
       "\n",
       "    .dataframe thead th {\n",
       "        text-align: right;\n",
       "    }\n",
       "</style>\n",
       "<table border=\"1\" class=\"dataframe\">\n",
       "  <thead>\n",
       "    <tr style=\"text-align: right;\">\n",
       "      <th></th>\n",
       "      <th>first</th>\n",
       "      <th>last</th>\n",
       "      <th>job</th>\n",
       "      <th>phone</th>\n",
       "      <th>email</th>\n",
       "      <th>client_id</th>\n",
       "      <th>order_id</th>\n",
       "      <th>order_date</th>\n",
       "      <th>order_week</th>\n",
       "      <th>order_year</th>\n",
       "      <th>item_id</th>\n",
       "      <th>category</th>\n",
       "      <th>subcategory</th>\n",
       "      <th>unit_price</th>\n",
       "      <th>unit_cost</th>\n",
       "      <th>unit_weight</th>\n",
       "      <th>qty</th>\n",
       "      <th>line_number</th>\n",
       "    </tr>\n",
       "  </thead>\n",
       "  <tbody>\n",
       "    <tr>\n",
       "      <th>0</th>\n",
       "      <td>Donald</td>\n",
       "      <td>Harding</td>\n",
       "      <td>Immunologist</td>\n",
       "      <td>793-904-7725x39308</td>\n",
       "      <td>harding.donald.7185@sullivan.com</td>\n",
       "      <td>58515</td>\n",
       "      <td>8953482</td>\n",
       "      <td>2023-04-28</td>\n",
       "      <td>17</td>\n",
       "      <td>2023</td>\n",
       "      <td>EUD29711-63-6U</td>\n",
       "      <td>decor</td>\n",
       "      <td>wall art</td>\n",
       "      <td>1096.80</td>\n",
       "      <td>762.71</td>\n",
       "      <td>7.50</td>\n",
       "      <td>105</td>\n",
       "      <td>1</td>\n",
       "    </tr>\n",
       "    <tr>\n",
       "      <th>1</th>\n",
       "      <td>Tiffany</td>\n",
       "      <td>Myers</td>\n",
       "      <td>Music therapist</td>\n",
       "      <td>201.442.4543x942</td>\n",
       "      <td>myers.t.6537@ferguson-johnson.net</td>\n",
       "      <td>37609</td>\n",
       "      <td>8069089</td>\n",
       "      <td>2023-05-19</td>\n",
       "      <td>20</td>\n",
       "      <td>2023</td>\n",
       "      <td>XDA18116-89-4A</td>\n",
       "      <td>consumables</td>\n",
       "      <td>pens</td>\n",
       "      <td>24.95</td>\n",
       "      <td>15.09</td>\n",
       "      <td>1.49</td>\n",
       "      <td>21</td>\n",
       "      <td>0</td>\n",
       "    </tr>\n",
       "    <tr>\n",
       "      <th>2</th>\n",
       "      <td>Shannon</td>\n",
       "      <td>Watson</td>\n",
       "      <td>Immunologist</td>\n",
       "      <td>687.737.9424x8503</td>\n",
       "      <td>swatson8146@payne.net</td>\n",
       "      <td>57113</td>\n",
       "      <td>1902144</td>\n",
       "      <td>2023-01-29</td>\n",
       "      <td>4</td>\n",
       "      <td>2023</td>\n",
       "      <td>ABE59463-05-7E</td>\n",
       "      <td>software</td>\n",
       "      <td>project management</td>\n",
       "      <td>13.52</td>\n",
       "      <td>7.86</td>\n",
       "      <td>1.68</td>\n",
       "      <td>39</td>\n",
       "      <td>6</td>\n",
       "    </tr>\n",
       "    <tr>\n",
       "      <th>3</th>\n",
       "      <td>Nathan</td>\n",
       "      <td>Baker</td>\n",
       "      <td>Accounting technician</td>\n",
       "      <td>827-788-8123x012</td>\n",
       "      <td>bakernathan@benson.com</td>\n",
       "      <td>46554</td>\n",
       "      <td>9031802</td>\n",
       "      <td>2023-04-25</td>\n",
       "      <td>17</td>\n",
       "      <td>2023</td>\n",
       "      <td>ZMM00836-65-0C</td>\n",
       "      <td>consumables</td>\n",
       "      <td>pens</td>\n",
       "      <td>36.42</td>\n",
       "      <td>24.85</td>\n",
       "      <td>1.23</td>\n",
       "      <td>29</td>\n",
       "      <td>3</td>\n",
       "    </tr>\n",
       "    <tr>\n",
       "      <th>4</th>\n",
       "      <td>Christina</td>\n",
       "      <td>Schwartz</td>\n",
       "      <td>Chiropractor</td>\n",
       "      <td>265-829-3643</td>\n",
       "      <td>christinaschwartz9252@mcconnell.com</td>\n",
       "      <td>92089</td>\n",
       "      <td>1322274</td>\n",
       "      <td>2023-05-28</td>\n",
       "      <td>21</td>\n",
       "      <td>2023</td>\n",
       "      <td>BZX55559-12-3X</td>\n",
       "      <td>consumables</td>\n",
       "      <td>misc</td>\n",
       "      <td>195.10</td>\n",
       "      <td>108.17</td>\n",
       "      <td>46.43</td>\n",
       "      <td>20</td>\n",
       "      <td>1</td>\n",
       "    </tr>\n",
       "  </tbody>\n",
       "</table>\n",
       "</div>"
      ],
      "text/plain": [
       "       first      last                    job               phone  \\\n",
       "0     Donald   Harding           Immunologist  793-904-7725x39308   \n",
       "1    Tiffany     Myers        Music therapist    201.442.4543x942   \n",
       "2    Shannon    Watson           Immunologist   687.737.9424x8503   \n",
       "3     Nathan     Baker  Accounting technician    827-788-8123x012   \n",
       "4  Christina  Schwartz           Chiropractor        265-829-3643   \n",
       "\n",
       "                                 email  client_id  order_id  order_date  \\\n",
       "0     harding.donald.7185@sullivan.com      58515   8953482  2023-04-28   \n",
       "1    myers.t.6537@ferguson-johnson.net      37609   8069089  2023-05-19   \n",
       "2                swatson8146@payne.net      57113   1902144  2023-01-29   \n",
       "3               bakernathan@benson.com      46554   9031802  2023-04-25   \n",
       "4  christinaschwartz9252@mcconnell.com      92089   1322274  2023-05-28   \n",
       "\n",
       "   order_week  order_year         item_id     category         subcategory  \\\n",
       "0          17        2023  EUD29711-63-6U        decor            wall art   \n",
       "1          20        2023  XDA18116-89-4A  consumables                pens   \n",
       "2           4        2023  ABE59463-05-7E     software  project management   \n",
       "3          17        2023  ZMM00836-65-0C  consumables                pens   \n",
       "4          21        2023  BZX55559-12-3X  consumables                misc   \n",
       "\n",
       "   unit_price  unit_cost  unit_weight  qty  line_number  \n",
       "0     1096.80     762.71         7.50  105            1  \n",
       "1       24.95      15.09         1.49   21            0  \n",
       "2       13.52       7.86         1.68   39            6  \n",
       "3       36.42      24.85         1.23   29            3  \n",
       "4      195.10     108.17        46.43   20            1  "
      ]
     },
     "execution_count": 2,
     "metadata": {},
     "output_type": "execute_result"
    }
   ],
   "source": [
    "import pandas as pd\n",
    "\n",
    "df = pd.read_csv('Resources/client_dataset.csv')\n",
    "df.head()"
   ]
  },
  {
   "cell_type": "code",
   "execution_count": 3,
   "id": "71b9bbd2",
   "metadata": {},
   "outputs": [
    {
     "data": {
      "text/plain": [
       "Index(['first', 'last', 'job', 'phone', 'email', 'client_id', 'order_id',\n",
       "       'order_date', 'order_week', 'order_year', 'item_id', 'category',\n",
       "       'subcategory', 'unit_price', 'unit_cost', 'unit_weight', 'qty',\n",
       "       'line_number'],\n",
       "      dtype='object')"
      ]
     },
     "execution_count": 3,
     "metadata": {},
     "output_type": "execute_result"
    }
   ],
   "source": [
    "# View the column names in the data\n",
    "df.columns"
   ]
  },
  {
   "cell_type": "code",
   "execution_count": 6,
   "id": "bc0f4172",
   "metadata": {},
   "outputs": [
    {
     "name": "stdout",
     "output_type": "stream",
     "text": [
      "              first     last        job       phone                     email  \\\n",
      "count         54639    54639      54639       54639                     54639   \n",
      "unique          360      477        498         999                       999   \n",
      "top     Christopher  Johnson  Osteopath  5016915923  jessica.reyes@grimes.net   \n",
      "freq           1090     1164        631         220                       220   \n",
      "mean            NaN      NaN        NaN         NaN                       NaN   \n",
      "std             NaN      NaN        NaN         NaN                       NaN   \n",
      "min             NaN      NaN        NaN         NaN                       NaN   \n",
      "25%             NaN      NaN        NaN         NaN                       NaN   \n",
      "50%             NaN      NaN        NaN         NaN                       NaN   \n",
      "75%             NaN      NaN        NaN         NaN                       NaN   \n",
      "max             NaN      NaN        NaN         NaN                       NaN   \n",
      "\n",
      "           client_id      order_id  order_date    order_week    order_year  \\\n",
      "count   54639.000000  5.463900e+04       54639  54639.000000  54639.000000   \n",
      "unique           NaN           NaN         150           NaN           NaN   \n",
      "top              NaN           NaN  2023-04-19           NaN           NaN   \n",
      "freq             NaN           NaN         538           NaN           NaN   \n",
      "mean    54837.869416  5.470190e+06         NaN     11.359139   2022.993064   \n",
      "std     25487.438231  2.599807e+06         NaN      7.023499      0.082997   \n",
      "min     10033.000000  1.000886e+06         NaN      1.000000   2022.000000   \n",
      "25%     33593.000000  3.196372e+06         NaN      6.000000   2023.000000   \n",
      "50%     53305.000000  5.496966e+06         NaN     11.000000   2023.000000   \n",
      "75%     78498.000000  7.733869e+06         NaN     17.000000   2023.000000   \n",
      "max     99984.000000  9.998480e+06         NaN     52.000000   2023.000000   \n",
      "\n",
      "               item_id     category        subcategory    unit_price  \\\n",
      "count            54639        54639              54639  54639.000000   \n",
      "unique             500            5                 18           NaN   \n",
      "top     MAZ00314-80-8M  consumables  bathroom supplies           NaN   \n",
      "freq               148        23538               6424           NaN   \n",
      "mean               NaN          NaN                NaN    136.267207   \n",
      "std                NaN          NaN                NaN    183.873135   \n",
      "min                NaN          NaN                NaN      0.010000   \n",
      "25%                NaN          NaN                NaN     20.800000   \n",
      "50%                NaN          NaN                NaN     68.310000   \n",
      "75%                NaN          NaN                NaN    173.160000   \n",
      "max                NaN          NaN                NaN   1396.230000   \n",
      "\n",
      "           unit_cost   unit_weight           qty   line_number  \n",
      "count   54639.000000  54639.000000  5.463900e+04  54639.000000  \n",
      "unique           NaN           NaN           NaN           NaN  \n",
      "top              NaN           NaN           NaN           NaN  \n",
      "freq             NaN           NaN           NaN           NaN  \n",
      "mean       99.446073      5.004116  5.702646e+02      2.979667  \n",
      "std       133.164267      5.326599  1.879552e+04      2.436320  \n",
      "min         0.010000      0.000000  0.000000e+00      0.000000  \n",
      "25%        14.840000      1.450000  3.200000e+01      1.000000  \n",
      "50%        49.890000      3.240000  6.800000e+01      3.000000  \n",
      "75%       125.570000      6.890000  1.700000e+02      5.000000  \n",
      "max       846.270000     46.430000  3.958244e+06      9.000000  \n"
     ]
    }
   ],
   "source": [
    "# Use the describe function to gather some basic statistics\n",
    "stats_all = df.describe (include = 'all')\n",
    "print (stats_all)"
   ]
  },
  {
   "cell_type": "code",
   "execution_count": 4,
   "id": "b24b53cc",
   "metadata": {},
   "outputs": [
    {
     "name": "stdout",
     "output_type": "stream",
     "text": [
      "<class 'pandas.core.frame.DataFrame'>\n",
      "RangeIndex: 54639 entries, 0 to 54638\n",
      "Data columns (total 18 columns):\n",
      " #   Column       Non-Null Count  Dtype  \n",
      "---  ------       --------------  -----  \n",
      " 0   first        54639 non-null  object \n",
      " 1   last         54639 non-null  object \n",
      " 2   job          54639 non-null  object \n",
      " 3   phone        54639 non-null  object \n",
      " 4   email        54639 non-null  object \n",
      " 5   client_id    54639 non-null  int64  \n",
      " 6   order_id     54639 non-null  int64  \n",
      " 7   order_date   54639 non-null  object \n",
      " 8   order_week   54639 non-null  int64  \n",
      " 9   order_year   54639 non-null  int64  \n",
      " 10  item_id      54639 non-null  object \n",
      " 11  category     54639 non-null  object \n",
      " 12  subcategory  54639 non-null  object \n",
      " 13  unit_price   54639 non-null  float64\n",
      " 14  unit_cost    54639 non-null  float64\n",
      " 15  unit_weight  54639 non-null  float64\n",
      " 16  qty          54639 non-null  int64  \n",
      " 17  line_number  54639 non-null  int64  \n",
      "dtypes: float64(3), int64(6), object(9)\n",
      "memory usage: 7.5+ MB\n"
     ]
    }
   ],
   "source": [
    "# Use this space to do any additional research\n",
    "# and familiarize yourself with the data."
   ]
  },
  {
   "cell_type": "code",
   "execution_count": 7,
   "id": "4f5d4305-a6de-41bf-b53a-e87a39e95294",
   "metadata": {},
   "outputs": [
    {
     "name": "stdout",
     "output_type": "stream",
     "text": [
      "first           object\n",
      "last            object\n",
      "job             object\n",
      "phone           object\n",
      "email           object\n",
      "client_id        int64\n",
      "order_id         int64\n",
      "order_date      object\n",
      "order_week       int64\n",
      "order_year       int64\n",
      "item_id         object\n",
      "category        object\n",
      "subcategory     object\n",
      "unit_price     float64\n",
      "unit_cost      float64\n",
      "unit_weight    float64\n",
      "qty              int64\n",
      "line_number      int64\n",
      "dtype: object\n"
     ]
    }
   ],
   "source": [
    "# Additional research (practice): Check the data types of each column\n",
    "print(df.dtypes)"
   ]
  },
  {
   "cell_type": "code",
   "execution_count": 8,
   "id": "47cad8f9-888c-4629-aca4-f1bc92bcd802",
   "metadata": {},
   "outputs": [
    {
     "name": "stdout",
     "output_type": "stream",
     "text": [
      "first          0\n",
      "last           0\n",
      "job            0\n",
      "phone          0\n",
      "email          0\n",
      "client_id      0\n",
      "order_id       0\n",
      "order_date     0\n",
      "order_week     0\n",
      "order_year     0\n",
      "item_id        0\n",
      "category       0\n",
      "subcategory    0\n",
      "unit_price     0\n",
      "unit_cost      0\n",
      "unit_weight    0\n",
      "qty            0\n",
      "line_number    0\n",
      "dtype: int64\n"
     ]
    }
   ],
   "source": [
    "# Additional research (practice): Check for missing values \n",
    "print(df.isnull().sum())"
   ]
  },
  {
   "cell_type": "code",
   "execution_count": 9,
   "id": "526f5f88-c0f2-4689-b099-7994e2626f90",
   "metadata": {},
   "outputs": [
    {
     "name": "stdout",
     "output_type": "stream",
     "text": [
      "         first     last                         job                 phone  \\\n",
      "33104   Daniel   Bowman               Archaeologist  001-716-757-9724x862   \n",
      "10038   Jeremy  Bennett       Theatre stage manager   (262)560-7975x55146   \n",
      "38652  William      Cox         Scientist, forensic      495-415-7584x854   \n",
      "53653    Wendy    Doyle      Financial risk analyst     (446)281-8395x771   \n",
      "41657  Michael     Reid  Research scientist (maths)          954-391-5797   \n",
      "\n",
      "                              email  client_id  order_id  order_date  \\\n",
      "33104     danielbowman@thompson.com      72892   3396996  2023-01-06   \n",
      "10038  our.bennett.9864@miller.info      84699   8546434  2023-04-13   \n",
      "38652    william_cox_9575@cowan.com      89557   5059604  2023-02-20   \n",
      "53653       doylesite8038@wiley.net      10520   6080814  2023-04-01   \n",
      "41657           reidtype@moreno.com      44699   1467905  2023-03-04   \n",
      "\n",
      "       order_week  order_year         item_id     category        subcategory  \\\n",
      "33104           1        2023  UDX16497-75-6A     software         accounting   \n",
      "10038          15        2023  DZD84552-63-4M    furniture              desks   \n",
      "38652           8        2023  DEA49899-87-6A    furniture             stands   \n",
      "53653          13        2023  UDC75479-26-5A     software         accounting   \n",
      "41657           9        2023  BXX79083-86-6E  consumables  bathroom supplies   \n",
      "\n",
      "       unit_price  unit_cost  unit_weight   qty  line_number  \n",
      "33104        2.67       2.35         1.91   123            3  \n",
      "10038       48.13      39.28         0.25  1211            3  \n",
      "38652        1.68       1.13         1.13   214            9  \n",
      "53653      277.01     174.45         4.51   662            0  \n",
      "41657       10.36       8.57         9.64    70            0  \n"
     ]
    }
   ],
   "source": [
    "# Additional research (practice): Get a sample of the data\n",
    "print(df.sample(5))"
   ]
  },
  {
   "cell_type": "code",
   "execution_count": 20,
   "id": "551cb358",
   "metadata": {},
   "outputs": [
    {
     "name": "stdout",
     "output_type": "stream",
     "text": [
      "Top 3 Categories:\n",
      " category\n",
      "consumables    23538\n",
      "furniture      11915\n",
      "software        8400\n",
      "Name: count, dtype: int64\n"
     ]
    }
   ],
   "source": [
    "# What three item categories had the most entries?\n",
    "category_counts = df['category'].value_counts()\n",
    "top_categories = category_counts.head(3)\n",
    "print(\"Top 3 Categories:\\n\", top_categories)"
   ]
  },
  {
   "cell_type": "code",
   "execution_count": 21,
   "id": "5f54e2cf",
   "metadata": {},
   "outputs": [
    {
     "name": "stdout",
     "output_type": "stream",
     "text": [
      "Most common subcategory in consumables:\n",
      " bathroom supplies\n"
     ]
    }
   ],
   "source": [
    "# For the category with the most entries, which subcategory had the most entries?\n",
    "most_common_category = category_counts.idxmax()\n",
    "subcategory_counts = df[df['category'] == most_common_category]['subcategory'].value_counts()\n",
    "top_subcategory = subcategory_counts.idxmax()\n",
    "print(f\"Most common subcategory in {most_common_category}:\\n\", top_subcategory)"
   ]
  },
  {
   "cell_type": "code",
   "execution_count": 22,
   "id": "2db94379",
   "metadata": {},
   "outputs": [
    {
     "name": "stdout",
     "output_type": "stream",
     "text": [
      "Top 5 Clients:\n",
      " client_id\n",
      "33615    220\n",
      "66037    211\n",
      "46820    209\n",
      "38378    207\n",
      "24741    207\n",
      "Name: count, dtype: int64\n"
     ]
    }
   ],
   "source": [
    "# Which five clients had the most entries in the data?\n",
    "client_counts = df['client_id'].value_counts()\n",
    "top_clients = client_counts.head(5)\n",
    "print(\"Top 5 Clients:\\n\", top_clients)"
   ]
  },
  {
   "cell_type": "code",
   "execution_count": 26,
   "id": "a6635601",
   "metadata": {},
   "outputs": [
    {
     "name": "stdout",
     "output_type": "stream",
     "text": [
      "Top 5 Client IDs:\n",
      " [33615, 66037, 46820, 38378, 24741]\n"
     ]
    }
   ],
   "source": [
    "# Store the client ids of those top 5 clients in a list.\n",
    "top_client_ids = top_clients.index.tolist()\n",
    "print(\"Top 5 Client IDs:\\n\", top_client_ids)"
   ]
  },
  {
   "cell_type": "code",
   "execution_count": 28,
   "id": "c88b8a3e",
   "metadata": {},
   "outputs": [
    {
     "name": "stdout",
     "output_type": "stream",
     "text": [
      "Total units ordered by client 33615:\n",
      " 64313\n"
     ]
    }
   ],
   "source": [
    "# How many total units (the qty column) did the client with the most entries order order?\n",
    "top_client_id = top_clients.index[0]  # ID of the client with the most entries\n",
    "total_units = df[df['client_id'] == top_client_id]['qty'].sum()\n",
    "print(f\"Total units ordered by client {top_client_id}:\\n\", total_units)"
   ]
  },
  {
   "cell_type": "markdown",
   "id": "257fcd7d",
   "metadata": {},
   "source": [
    "## Part 2: Transform the Data\n",
    "Do we know that this client spent the more money than client 66037? If not, how would we find out? Transform the data using the steps below to prepare it for analysis."
   ]
  },
  {
   "cell_type": "code",
   "execution_count": 6,
   "id": "0c25c4a8",
   "metadata": {},
   "outputs": [],
   "source": [
    "# Create a column that calculates the subtotal for each line using the unit_price and the qty\n",
    "df['line_subtotal'] = df['unit_price'] * df['qty']"
   ]
  },
  {
   "cell_type": "code",
   "execution_count": 8,
   "id": "22ecd7d3-817b-43e5-ab6e-4d5c24074220",
   "metadata": {},
   "outputs": [
    {
     "name": "stdout",
     "output_type": "stream",
     "text": [
      "Index(['first', 'last', 'job', 'phone', 'email', 'client_id', 'order_id',\n",
      "       'order_date', 'order_week', 'order_year', 'item_id', 'category',\n",
      "       'subcategory', 'unit_price', 'unit_cost', 'unit_weight', 'qty',\n",
      "       'line_number', 'line_subtotal', 'total_weight', 'shipping_price'],\n",
      "      dtype='object')\n"
     ]
    }
   ],
   "source": [
    "# Print the columns to check it 'line_subtotal' is created\n",
    "print(df.columns)"
   ]
  },
  {
   "cell_type": "code",
   "execution_count": 89,
   "id": "ac9dafc8",
   "metadata": {},
   "outputs": [],
   "source": [
    "# Create a column for total weight\n",
    "df['total_weight'] = df['unit_weight'] * df['qty']"
   ]
  },
  {
   "cell_type": "code",
   "execution_count": 90,
   "id": "8e2b0144-196d-4034-80f6-a6e1c0055a2f",
   "metadata": {},
   "outputs": [],
   "source": [
    "# Create a column for shipping price.\n",
    "# Assume a shipping price of $7 per pound for orders over 50 pounds and $10 per pound for items 50 pounds or under.\n",
    "df['shipping_price'] = df['total_weight'].apply(lambda x: 7 * x if x > 50 else 10 * x)"
   ]
  },
  {
   "cell_type": "code",
   "execution_count": 91,
   "id": "e5186901-f570-4d17-8d82-77031656c742",
   "metadata": {},
   "outputs": [
    {
     "name": "stdout",
     "output_type": "stream",
     "text": [
      "Index(['first', 'last', 'job', 'phone', 'email', 'client_id', 'order_id',\n",
      "       'order_date', 'order_week', 'order_year', 'item_id', 'category',\n",
      "       'subcategory', 'unit_price', 'unit_cost', 'unit_weight', 'qty',\n",
      "       'line_number', 'line_subtotal', 'total_weight', 'shipping_price',\n",
      "       'total_price', 'line_cost', 'line_price', 'line_profit',\n",
      "       'total_spending'],\n",
      "      dtype='object')\n"
     ]
    }
   ],
   "source": [
    "# Print the columns to check if 'shipping_price' is created\n",
    "print(df.columns)"
   ]
  },
  {
   "cell_type": "code",
   "execution_count": 92,
   "id": "77f42c67",
   "metadata": {
    "scrolled": true
   },
   "outputs": [],
   "source": [
    "# Create a column for the total price using the subtotal and the shipping price along with a sales tax of 9.25%\n",
    "df['total_price'] = round((df['line_subtotal'] + df['shipping_price']) * 1.0925, 2)"
   ]
  },
  {
   "cell_type": "code",
   "execution_count": 93,
   "id": "8a58c631-e170-4ebb-b2ee-f35094fc8d49",
   "metadata": {
    "scrolled": true
   },
   "outputs": [
    {
     "name": "stdout",
     "output_type": "stream",
     "text": [
      "Index(['first', 'last', 'job', 'phone', 'email', 'client_id', 'order_id',\n",
      "       'order_date', 'order_week', 'order_year', 'item_id', 'category',\n",
      "       'subcategory', 'unit_price', 'unit_cost', 'unit_weight', 'qty',\n",
      "       'line_number', 'line_subtotal', 'total_weight', 'shipping_price',\n",
      "       'total_price', 'line_cost', 'line_price', 'line_profit',\n",
      "       'total_spending'],\n",
      "      dtype='object')\n"
     ]
    }
   ],
   "source": [
    "# Print the columns to check if 'total_price' is created\n",
    "print(df.columns)"
   ]
  },
  {
   "cell_type": "code",
   "execution_count": 94,
   "id": "c82ad275",
   "metadata": {
    "scrolled": true
   },
   "outputs": [],
   "source": [
    "# Create a column for the cost of each line using unit cost, qty, and\n",
    "# shipping price (assume the shipping cost is exactly what is charged to the client).\n",
    "df['line_cost'] = (df['unit_cost'] * df['qty']) + df['shipping_price']"
   ]
  },
  {
   "cell_type": "code",
   "execution_count": 95,
   "id": "e9f487cd-f4c6-42b8-a6c4-ff036b1cf9e6",
   "metadata": {
    "scrolled": true
   },
   "outputs": [
    {
     "name": "stdout",
     "output_type": "stream",
     "text": [
      "Index(['first', 'last', 'job', 'phone', 'email', 'client_id', 'order_id',\n",
      "       'order_date', 'order_week', 'order_year', 'item_id', 'category',\n",
      "       'subcategory', 'unit_price', 'unit_cost', 'unit_weight', 'qty',\n",
      "       'line_number', 'line_subtotal', 'total_weight', 'shipping_price',\n",
      "       'total_price', 'line_cost', 'line_price', 'line_profit',\n",
      "       'total_spending'],\n",
      "      dtype='object')\n"
     ]
    }
   ],
   "source": [
    "# Print the columns to check if 'line_cost' is created\n",
    "print(df.columns)"
   ]
  },
  {
   "cell_type": "code",
   "execution_count": 96,
   "id": "81011ff3-aaf8-4ab0-b3f2-a54bb7d2e28b",
   "metadata": {},
   "outputs": [
    {
     "name": "stdout",
     "output_type": "stream",
     "text": [
      "first              object\n",
      "last               object\n",
      "job                object\n",
      "phone              object\n",
      "email              object\n",
      "client_id           int64\n",
      "order_id            int64\n",
      "order_date         object\n",
      "order_week          int64\n",
      "order_year          int64\n",
      "item_id            object\n",
      "category           object\n",
      "subcategory        object\n",
      "unit_price        float64\n",
      "unit_cost         float64\n",
      "unit_weight       float64\n",
      "qty                 int64\n",
      "line_number         int64\n",
      "line_subtotal     float64\n",
      "total_weight      float64\n",
      "shipping_price    float64\n",
      "total_price       float64\n",
      "line_cost         float64\n",
      "line_price        float64\n",
      "line_profit       float64\n",
      "total_spending    float64\n",
      "dtype: object\n"
     ]
    }
   ],
   "source": [
    "# Additional research: Check the data types of each column after transformation\n",
    "print(df.dtypes)"
   ]
  },
  {
   "cell_type": "code",
   "execution_count": 97,
   "id": "3423d271-8268-4dad-845b-19ed00d09f78",
   "metadata": {},
   "outputs": [
    {
     "name": "stdout",
     "output_type": "stream",
     "text": [
      "first             0\n",
      "last              0\n",
      "job               0\n",
      "phone             0\n",
      "email             0\n",
      "client_id         0\n",
      "order_id          0\n",
      "order_date        0\n",
      "order_week        0\n",
      "order_year        0\n",
      "item_id           0\n",
      "category          0\n",
      "subcategory       0\n",
      "unit_price        0\n",
      "unit_cost         0\n",
      "unit_weight       0\n",
      "qty               0\n",
      "line_number       0\n",
      "line_subtotal     0\n",
      "total_weight      0\n",
      "shipping_price    0\n",
      "total_price       0\n",
      "line_cost         0\n",
      "line_price        0\n",
      "line_profit       0\n",
      "total_spending    0\n",
      "dtype: int64\n"
     ]
    }
   ],
   "source": [
    "# Additional research: Check for missing values after transformation\n",
    "print(df.isnull().sum())"
   ]
  },
  {
   "cell_type": "code",
   "execution_count": 98,
   "id": "b9d6a2f8-a456-41db-bbc3-6e3642d9639a",
   "metadata": {},
   "outputs": [
    {
     "name": "stdout",
     "output_type": "stream",
     "text": [
      "          first     last                            job              phone  \\\n",
      "7714     Pamela  Buckley                     Printmaker         2552289876   \n",
      "16757  Jennifer    Olson  Telecommunications researcher  241.311.2077x6960   \n",
      "23252      Lori   Turner         Therapist, nutritional  (578)816-9892x272   \n",
      "32681     Julia    Mason          Multimedia specialist   001-255-966-2146   \n",
      "35889       Ian      Fox     Lecturer, higher education      (917)710-6686   \n",
      "\n",
      "                              email  client_id  order_id  order_date  \\\n",
      "7714    pamelabuckley9269@tapia.biz      52037   8319620  2023-01-26   \n",
      "16757   olsonj5619@watson-green.com      62135   5292192  2023-01-23   \n",
      "23252          turnerl@marshall.com      80857   1397163  2023-01-26   \n",
      "32681  masonj@lawrence-martinez.com      83686   3387829  2023-01-25   \n",
      "35889          i.fox.6520@terry.biz      58400   4659251  2023-03-08   \n",
      "\n",
      "       order_week  order_year  ...  qty line_number line_subtotal  \\\n",
      "7714            4        2023  ...  131           8      15820.87   \n",
      "16757           4        2023  ...   85           1       1170.45   \n",
      "23252           4        2023  ...   83           1      40335.51   \n",
      "32681           4        2023  ...   48           7        799.20   \n",
      "35889          10        2023  ...  103           9       3589.55   \n",
      "\n",
      "       total_weight  shipping_price  total_price  line_cost    line_price  \\\n",
      "7714         516.14         3612.98     21231.48   11534.55  21231.481125   \n",
      "16757        583.10         4081.70      5737.97    4900.25   5737.973875   \n",
      "23252        243.19         1702.33     45926.34   26120.10  45926.340200   \n",
      "32681         86.40          604.80      1533.87    1317.12   1533.870000   \n",
      "35889        196.73         1377.11      5426.08    3969.62   5426.076050   \n",
      "\n",
      "        line_profit  total_spending  \n",
      "7714    9696.931125     12753615.70  \n",
      "16757    837.723875      3795429.92  \n",
      "23252  19806.240200      4669922.89  \n",
      "32681    216.750000      3494138.58  \n",
      "35889   1456.456050      3270579.05  \n",
      "\n",
      "[5 rows x 26 columns]\n"
     ]
    }
   ],
   "source": [
    "# Additional research: Get a sample of the data after transformation\n",
    "print(df.sample(5))"
   ]
  },
  {
   "cell_type": "code",
   "execution_count": 31,
   "id": "e2389018",
   "metadata": {
    "scrolled": true
   },
   "outputs": [],
   "source": [
    "# Create a column for the profit of each line using line cost and line price\n",
    "df['line_profit'] = df['total_price'] - df['line_cost']"
   ]
  },
  {
   "cell_type": "code",
   "execution_count": 28,
   "id": "47e0fe77-91e6-40be-ab9b-7163419ca402",
   "metadata": {},
   "outputs": [
    {
     "name": "stdout",
     "output_type": "stream",
     "text": [
      "Index(['first', 'last', 'job', 'phone', 'email', 'client_id', 'order_id',\n",
      "       'order_date', 'order_week', 'order_year', 'item_id', 'category',\n",
      "       'subcategory', 'unit_price', 'unit_cost', 'unit_weight', 'qty',\n",
      "       'line_number', 'line_subtotal', 'total_weight', 'shipping_price',\n",
      "       'total_price', 'line_cost', 'line_price', 'line_profit'],\n",
      "      dtype='object')\n"
     ]
    }
   ],
   "source": [
    "# Print the columns to checl if 'line_profit' is created\n",
    "print(df.columns)"
   ]
  },
  {
   "cell_type": "code",
   "execution_count": 29,
   "id": "33f2b88f-71eb-448d-9a04-dd57d13228ab",
   "metadata": {},
   "outputs": [
    {
     "name": "stdout",
     "output_type": "stream",
     "text": [
      "       first      last                    job               phone  \\\n",
      "0     Donald   Harding           Immunologist  793-904-7725x39308   \n",
      "1    Tiffany     Myers        Music therapist    201.442.4543x942   \n",
      "2    Shannon    Watson           Immunologist   687.737.9424x8503   \n",
      "3     Nathan     Baker  Accounting technician    827-788-8123x012   \n",
      "4  Christina  Schwartz           Chiropractor        265-829-3643   \n",
      "\n",
      "                                 email  client_id  order_id  order_date  \\\n",
      "0     harding.donald.7185@sullivan.com      58515   8953482  2023-04-28   \n",
      "1    myers.t.6537@ferguson-johnson.net      37609   8069089  2023-05-19   \n",
      "2                swatson8146@payne.net      57113   1902144  2023-01-29   \n",
      "3               bakernathan@benson.com      46554   9031802  2023-04-25   \n",
      "4  christinaschwartz9252@mcconnell.com      92089   1322274  2023-05-28   \n",
      "\n",
      "   order_week  order_year  ... unit_weight  qty line_number  line_subtotal  \\\n",
      "0          17        2023  ...        7.50  105           1      115164.00   \n",
      "1          20        2023  ...        1.49   21           0         523.95   \n",
      "2           4        2023  ...        1.68   39           6         527.28   \n",
      "3          17        2023  ...        1.23   29           3        1056.18   \n",
      "4          21        2023  ...       46.43   20           1        3902.00   \n",
      "\n",
      "   total_weight  shipping_price    total_price  line_cost     line_price  \\\n",
      "0        787.50         5512.50  131839.076250   85597.05  131839.076250   \n",
      "1         31.29          312.90     914.258625     629.79     914.258625   \n",
      "2         65.52          458.64    1077.117600     765.18    1077.117600   \n",
      "3         35.67          356.70    1543.571400    1077.35    1543.571400   \n",
      "4        928.60         6500.20   11364.403500    8663.60   11364.403500   \n",
      "\n",
      "    line_profit  \n",
      "0  46242.026250  \n",
      "1    284.468625  \n",
      "2    311.937600  \n",
      "3    466.221400  \n",
      "4   2700.803500  \n",
      "\n",
      "[5 rows x 25 columns]\n"
     ]
    }
   ],
   "source": [
    "# Inspect a few rows of the dataframe to verify the new calculations\n",
    "print(df.head())"
   ]
  },
  {
   "cell_type": "code",
   "execution_count": 68,
   "id": "b58185e8-4450-42ff-b123-e43e3af88a0a",
   "metadata": {},
   "outputs": [],
   "source": [
    "# Additional analysis:\n",
    "# Calculate total spending for each client\n",
    "df['total_spending'] = df.groupby('client_id')['total_price'].transform('sum')"
   ]
  },
  {
   "cell_type": "code",
   "execution_count": 73,
   "id": "8bcbdd37-192e-4c5f-abc8-b24eac96154d",
   "metadata": {},
   "outputs": [],
   "source": [
    "# Additional analysis:\n",
    "# Identify the top clients based on total spending\n",
    "top_clients = df.groupby('client_id')['total_spending'].max().nlargest(2).index"
   ]
  },
  {
   "cell_type": "code",
   "execution_count": 80,
   "id": "6f43379e-8cca-4f03-9e59-e6e4683b5dd2",
   "metadata": {},
   "outputs": [],
   "source": [
    "# Additional analysis:\n",
    "# Extract top client IDs\n",
    "top_client_ids = top_clients.tolist()"
   ]
  },
  {
   "cell_type": "code",
   "execution_count": 76,
   "id": "4b5b97ca-23d4-4a43-adc6-821b86f6f7b2",
   "metadata": {},
   "outputs": [
    {
     "name": "stdout",
     "output_type": "stream",
     "text": [
      "Total spending of top clients:\n",
      "     client_id  total_spending\n",
      "332      78965    6.559237e+08\n",
      "572      85931    2.374170e+08\n"
     ]
    }
   ],
   "source": [
    "# Additional analysis:\n",
    "# Check total spending for each of the top clients\n",
    "top_client_spending = df[df['client_id'].isin(top_client_ids)][['client_id', 'total_spending']].drop_duplicates()\n",
    "\n",
    "print(\"Total spending of top clients:\")\n",
    "print(top_client_spending)"
   ]
  },
  {
   "cell_type": "code",
   "execution_count": 81,
   "id": "b0c709c7-9406-43c7-b6bc-7603efc75da5",
   "metadata": {},
   "outputs": [
    {
     "name": "stdout",
     "output_type": "stream",
     "text": [
      "Total spending by client 78965: $655923670.05\n",
      "Total spending by client 85931: $237417001.41\n",
      "Client 78965 spent more than client 85931.\n"
     ]
    }
   ],
   "source": [
    "# Additional analysis:\n",
    "# Compare spending between specific clients\n",
    "client_1 = top_client_ids[0]  # ID of the first top client\n",
    "client_2 = top_client_ids[1]  # ID of the second top client\n",
    "\n",
    "spending_client_1 = top_client_spending[top_client_spending['client_id'] == client_1]['total_spending'].values[0]\n",
    "spending_client_2 = top_client_spending[top_client_spending['client_id'] == client_2]['total_spending'].values[0]\n",
    "\n",
    "print(f\"Total spending by client {client_1}: ${spending_client_1}\")\n",
    "print(f\"Total spending by client {client_2}: ${spending_client_2}\")\n",
    "\n",
    "if spending_client_1 > spending_client_2:\n",
    "    print(f\"Client {client_1} spent more than client {client_2}.\")\n",
    "elif spending_client_1 < spending_client_2:\n",
    "    print(f\"Client {client_2} spent more than client {client_1}.\")\n",
    "else:\n",
    "    print(f\"Client {client_1} and client {client_2} spent the same amount.\")"
   ]
  },
  {
   "cell_type": "markdown",
   "id": "ef6f62b1",
   "metadata": {},
   "source": [
    "## Part 3: Confirm your work\n",
    "You have email receipts showing that the total prices for 3 orders. Confirm that your calculations match the receipts. Remember, each order has multiple lines.\n",
    "\n",
    "Order ID 2742071 had a total price of \\$152,811.89\n",
    "\n",
    "Order ID 2173913 had a total price of \\$162,388.71\n",
    "\n",
    "Order ID 6128929 had a total price of \\$923,441.25\n"
   ]
  },
  {
   "cell_type": "code",
   "execution_count": 32,
   "id": "c0e5d68e",
   "metadata": {},
   "outputs": [],
   "source": [
    "# Check your work using the totals above\n",
    "# Calculate the total price for each specified order ID\n",
    "order_2742071_total = round(df[df['order_id'] == 2742071]['total_price'].sum(), 2)\n",
    "order_2173913_total = round(df[df['order_id'] == 2173913]['total_price'].sum(), 2)\n",
    "order_6128929_total = round(df[df['order_id'] == 6128929]['total_price'].sum(), 2)"
   ]
  },
  {
   "cell_type": "code",
   "execution_count": 36,
   "id": "500305ca-7bc9-4aec-ac0c-b8f452a1b6e7",
   "metadata": {},
   "outputs": [
    {
     "name": "stdout",
     "output_type": "stream",
     "text": [
      "Order ID 2742071 total: $152811.90\n",
      "Order ID 2173913 total: $162388.72\n",
      "Order ID 6128929 total: $923441.24\n"
     ]
    }
   ],
   "source": [
    "# Print the calculated totals to check against the receipts\n",
    "print(f\"Order ID 2742071 total: ${order_2742071_total:.2f}\")\n",
    "print(f\"Order ID 2173913 total: ${order_2173913_total:.2f}\")\n",
    "print(f\"Order ID 6128929 total: ${order_6128929_total:.2f}\")"
   ]
  },
  {
   "cell_type": "markdown",
   "id": "b94d58ab",
   "metadata": {},
   "source": [
    "## Part 4: Summarize and Analyze\n",
    "Use the new columns with confirmed values to find the following information."
   ]
  },
  {
   "cell_type": "code",
   "execution_count": 37,
   "id": "7c005f34",
   "metadata": {},
   "outputs": [],
   "source": [
    "# How much did each of the top 5 clients by quantity spend? Check your work from Part 1 for client ids.\n",
    "# Define the top 5 clinet IDs\n",
    "top_clients = [33615, 66037, 46820, 38378, 24741]"
   ]
  },
  {
   "cell_type": "code",
   "execution_count": 52,
   "id": "dc9005c5-3856-48c1-b1f0-c4055efb5992",
   "metadata": {},
   "outputs": [],
   "source": [
    "# Calculate the total spending for each client\n",
    "total_spending = df[df['client_id'].isin(top_clients)].groupby('client_id')['total_price'].sum().reset_index()"
   ]
  },
  {
   "cell_type": "code",
   "execution_count": 53,
   "id": "a068a017-295f-4f19-b882-3f3892d52950",
   "metadata": {
    "scrolled": true
   },
   "outputs": [],
   "source": [
    "# Rename columns for clarity\n",
    "total_spending.columns = ['Client ID', 'Total Spending']"
   ]
  },
  {
   "cell_type": "code",
   "execution_count": 54,
   "id": "8d9ac1f6-efee-40ba-8ebf-85ae78610c5c",
   "metadata": {},
   "outputs": [
    {
     "name": "stdout",
     "output_type": "stream",
     "text": [
      "   Client ID  Total Spending\n",
      "0      24741     82268892.02\n",
      "1      33615      8377308.52\n",
      "2      38378     12906550.87\n",
      "3      46820      9743794.36\n",
      "4      66037     10259514.79\n"
     ]
    }
   ],
   "source": [
    "# Print the total spending for each client\n",
    "print(total_spending)"
   ]
  },
  {
   "cell_type": "code",
   "execution_count": 58,
   "id": "81b6e4d2",
   "metadata": {},
   "outputs": [],
   "source": [
    "# Create a summary DataFrame showing the totals for the for the top 5 clients with the following information:\n",
    "# total units purchased, total shipping price, total revenue, and total profit. \n",
    "summary_df = pd.DataFrame({\n",
    "    'client_id': [33615, 66037, 46820, 38378, 24741],\n",
    "    'qty': [64313, 43018, 75768, 73667, 239862],\n",
    "    'shipping_price': [1828984.89, 1395151.85, 1601448.84, 3429455.40, 5126448.37],\n",
    "    'line_price': [8377308.52, 10259514.79, 9743794.36, 12906550.87, 82268892.02],\n",
    "    'line_cost': [6175313.91, 7004482.98, 7007191.64, 9634720.98, 45688899.71],\n",
    "    'line_profit': [2201994.61, 3255031.81, 2736602.72, 3271829.89, 36579992.31]\n",
    "})"
   ]
  },
  {
   "cell_type": "code",
   "execution_count": 59,
   "id": "7be02867",
   "metadata": {},
   "outputs": [],
   "source": [
    "# Format the data and rename the columns to names suitable for presentation.\n",
    "summary_df.columns = ['Client ID', 'Units', 'Shipping Price', 'Total Revenue', 'Total Cost', 'Total Profit']"
   ]
  },
  {
   "cell_type": "code",
   "execution_count": 60,
   "id": "cc27ef38-9d73-48cd-9211-3d5b4d2f2de2",
   "metadata": {},
   "outputs": [],
   "source": [
    "# Define the money columns. \n",
    "money_columns = ['Shipping Price', 'Total Revenue', 'Total Cost', 'Total Profit']"
   ]
  },
  {
   "cell_type": "code",
   "execution_count": 61,
   "id": "c587ae94-f46e-4d90-8729-29524c15c4c2",
   "metadata": {},
   "outputs": [],
   "source": [
    "# Define a function that converts a dollar amount to millions.\n",
    "def currency_format_millions(value):\n",
    "    return value / 1_000_000"
   ]
  },
  {
   "cell_type": "code",
   "execution_count": 63,
   "id": "1f9e941a-1e1a-4467-a7da-07e521e85ea1",
   "metadata": {},
   "outputs": [],
   "source": [
    "# Apply the currency_format_millions function to only the money columns\n",
    "summary_df[money_columns] = summary_df[money_columns].apply(currency_format_millions)"
   ]
  },
  {
   "cell_type": "code",
   "execution_count": 65,
   "id": "5b44381f-9bbf-447e-80be-88158a661fc1",
   "metadata": {},
   "outputs": [],
   "source": [
    "# Rename the columns to reflect the change in the money format. \n",
    "summary_df.columns = ['Client ID', 'Units', 'Shipping (millions)', 'Total Revenue (millions)', 'Total Cost (millions)', 'Total Profit (millions)']"
   ]
  },
  {
   "cell_type": "code",
   "execution_count": 66,
   "id": "8ead0986",
   "metadata": {},
   "outputs": [],
   "source": [
    "# Sort the updated data by \"Total Profit (millions)\" form highest to lowest and assign the sort to a new DatFrame.\n",
    "summary_df_sorted = summary_df.sort_values(by='Total Profit (millions)', ascending=False).reset_index(drop=True)"
   ]
  },
  {
   "cell_type": "code",
   "execution_count": 67,
   "id": "87e0e7f8-b60e-4e50-ab07-c36b6deed513",
   "metadata": {},
   "outputs": [
    {
     "name": "stdout",
     "output_type": "stream",
     "text": [
      "   Client ID   Units  Shipping (millions)  Total Revenue (millions)  \\\n",
      "0      24741  239862             5.126448                 82.268892   \n",
      "1      38378   73667             3.429455                 12.906551   \n",
      "2      66037   43018             1.395152                 10.259515   \n",
      "3      46820   75768             1.601449                  9.743794   \n",
      "4      33615   64313             1.828985                  8.377309   \n",
      "\n",
      "   Total Cost (millions)  Total Profit (millions)  \n",
      "0              45.688900                36.579992  \n",
      "1               9.634721                 3.271830  \n",
      "2               7.004483                 3.255032  \n",
      "3               7.007192                 2.736603  \n",
      "4               6.175314                 2.201995  \n"
     ]
    }
   ],
   "source": [
    "# Print the sorted DataFrame\n",
    "print(summary_df_sorted)"
   ]
  },
  {
   "cell_type": "code",
   "execution_count": null,
   "id": "dccd2d37-cf82-4736-a40d-93a293725f77",
   "metadata": {},
   "outputs": [],
   "source": []
  }
 ],
 "metadata": {
  "kernelspec": {
   "display_name": "Python 3 (ipykernel)",
   "language": "python",
   "name": "python3"
  },
  "language_info": {
   "codemirror_mode": {
    "name": "ipython",
    "version": 3
   },
   "file_extension": ".py",
   "mimetype": "text/x-python",
   "name": "python",
   "nbconvert_exporter": "python",
   "pygments_lexer": "ipython3",
   "version": "3.10.14"
  }
 },
 "nbformat": 4,
 "nbformat_minor": 5
}
